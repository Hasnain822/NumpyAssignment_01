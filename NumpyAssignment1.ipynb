{
 "cells": [
  {
   "cell_type": "markdown",
   "metadata": {
    "id": "UZXjlass3ARu"
   },
   "source": [
    "\n",
    "# **1. Basic Array Manipulation:**\n"
   ]
  },
  {
   "cell_type": "markdown",
   "metadata": {
    "id": "tDWPQRm23C7o"
   },
   "source": [
    "Create a 1D array with values ranging from 0 to 9.\n"
   ]
  },
  {
   "cell_type": "code",
   "execution_count": 8,
   "metadata": {
    "id": "OvGF66_02Q8H"
   },
   "outputs": [
    {
     "name": "stdout",
     "output_type": "stream",
     "text": [
      "[0 1 2 3 4 5 6 7 8]\n"
     ]
    }
   ],
   "source": [
    "import numpy as np\n",
    "\n",
    "array_1d = np.arange(9)\n",
    "print(array_1d)"
   ]
  },
  {
   "cell_type": "markdown",
   "metadata": {
    "id": "UYzIzPyB3Ne3"
   },
   "source": [
    "Reshape the array into a 3x3 matrix.\n",
    "\n",
    "Explore Reshape Function"
   ]
  },
  {
   "cell_type": "code",
   "execution_count": 9,
   "metadata": {
    "id": "RLlzDCBc2Q_P"
   },
   "outputs": [
    {
     "name": "stdout",
     "output_type": "stream",
     "text": [
      "\n",
      "Reshaped 3x3 matrix:\n",
      "[[0 1 2]\n",
      " [3 4 5]\n",
      " [6 7 8]]\n"
     ]
    }
   ],
   "source": [
    "# Reshape the 1D array into a 3x3 matrix\n",
    "\n",
    "array_2d = array_1d.reshape(3, 3)\n",
    "\n",
    "print(\"\\nReshaped 3x3 matrix:\")\n",
    "\n",
    "print(array_2d)"
   ]
  },
  {
   "cell_type": "markdown",
   "metadata": {
    "id": "KmhRK9Ti3Phn"
   },
   "source": [
    "Access the element at the second row, second column.\n"
   ]
  },
  {
   "cell_type": "code",
   "execution_count": 10,
   "metadata": {
    "id": "Dk_a1D3A3ijN"
   },
   "outputs": [
    {
     "name": "stdout",
     "output_type": "stream",
     "text": [
      "Element at the second row, second column: 4\n"
     ]
    }
   ],
   "source": [
    "element = array_2d[1, 1]  # Indices start from 0, so row 2 is index 1, and column 2 is index 1\n",
    "print(\"Element at the second row, second column:\", element)"
   ]
  },
  {
   "cell_type": "markdown",
   "metadata": {
    "id": "NlH7N-fZ36wc"
   },
   "source": [
    "Perform element-wise addition, subtraction, multiplication, and division on two arrays [1, 2, 3] and [4, 5, 6].\n"
   ]
  },
  {
   "cell_type": "code",
   "execution_count": 11,
   "metadata": {
    "id": "PkgNSo1a37kP"
   },
   "outputs": [
    {
     "name": "stdout",
     "output_type": "stream",
     "text": [
      "Element-wise addition: [5 7 9]\n",
      "Element-wise subtraction: [-3 -3 -3]\n",
      "Element-wise multiplication: [ 4 10 18]\n",
      "Element-wise division: [0.25 0.4  0.5 ]\n"
     ]
    }
   ],
   "source": [
    "array1 = np.array([1, 2, 3])\n",
    "array2 = np.array([4, 5, 6])\n",
    "\n",
    "# Element-wise addition\n",
    "addition = array1 + array2\n",
    "\n",
    "# Element-wise subtraction\n",
    "subtraction = array1 - array2\n",
    "\n",
    "# Element-wise multiplication\n",
    "multiplication = array1 * array2\n",
    "\n",
    "# Element-wise division\n",
    "division = array1 / array2\n",
    "\n",
    "# Print the results\n",
    "print(\"Element-wise addition:\", addition)\n",
    "print(\"Element-wise subtraction:\", subtraction)\n",
    "print(\"Element-wise multiplication:\", multiplication)\n",
    "print(\"Element-wise division:\", division)"
   ]
  },
  {
   "cell_type": "markdown",
   "metadata": {
    "id": "JVt4zxkk8e0P"
   },
   "source": [
    "Find the sum, mean, and standard deviation of the array [1, 2, 3, 4, 5].\n"
   ]
  },
  {
   "cell_type": "code",
   "execution_count": 12,
   "metadata": {
    "id": "mQZxaZ0c8nhh"
   },
   "outputs": [
    {
     "name": "stdout",
     "output_type": "stream",
     "text": [
      "Sum: 15\n",
      "Mean: 3.0\n",
      "Standard Deviation: 1.4142135623730951\n"
     ]
    }
   ],
   "source": [
    "array = np.array([1, 2, 3, 4, 5])\n",
    "\n",
    "# Calculate the sum\n",
    "array_sum = np.sum(array)\n",
    "\n",
    "# Calculate the mean\n",
    "array_mean = np.mean(array)\n",
    "\n",
    "# Calculate the standard deviation\n",
    "array_std = np.std(array)\n",
    "\n",
    "# Print the results\n",
    "print(\"Sum:\", array_sum)\n",
    "print(\"Mean:\", array_mean)\n",
    "print(\"Standard Deviation:\", array_std)"
   ]
  },
  {
   "cell_type": "markdown",
   "metadata": {
    "id": "ji2XvW0Z8nn5"
   },
   "source": [
    "Reshape the array [1, 2, 3, 4, 5, 6] into a 2x3 array.\n",
    "\n",
    "Explore Reshape"
   ]
  },
  {
   "cell_type": "code",
   "execution_count": 14,
   "metadata": {
    "id": "FNbYlzyI8rAx"
   },
   "outputs": [
    {
     "name": "stdout",
     "output_type": "stream",
     "text": [
      "Reshaped 2x3 array:\n",
      "[[1 2 3]\n",
      " [4 5 6]]\n"
     ]
    }
   ],
   "source": [
    "array = np.array([1, 2, 3, 4, 5, 6])\n",
    "\n",
    "# Reshape the array into a 2x3 matrix\n",
    "reshaped_array = array.reshape(2, 3)\n",
    "\n",
    "# Print the reshaped array\n",
    "print(f\"Reshaped 2x3 array:\\n{reshaped_array}\")"
   ]
  },
  {
   "cell_type": "markdown",
   "metadata": {
    "id": "OE-5o0th3SU4"
   },
   "source": [
    "\n",
    "# **2. Indexing and Slicing:**\n"
   ]
  },
  {
   "cell_type": "markdown",
   "metadata": {
    "id": "yqNKWBOl3an3"
   },
   "source": [
    "Create a 5x5 array with random integers.\n"
   ]
  },
  {
   "cell_type": "code",
   "execution_count": 15,
   "metadata": {
    "id": "G-kX4nme2RBn"
   },
   "outputs": [
    {
     "name": "stdout",
     "output_type": "stream",
     "text": [
      "5x5 array with random integers:\n",
      "[[97 54 87 43 60]\n",
      " [78 42  4 28 84]\n",
      " [24 95  4 17 52]\n",
      " [ 2 97 30 14 62]\n",
      " [35 20 99 18 93]]\n"
     ]
    }
   ],
   "source": [
    "# Create a 5x5 array with random integers between 0 and 100\n",
    "array_5x5 = np.random.randint(0, 100, size=(5, 5))\n",
    "\n",
    "# Print the array\n",
    "print(\"5x5 array with random integers:\")\n",
    "print(array_5x5)"
   ]
  },
  {
   "cell_type": "markdown",
   "metadata": {
    "id": "LlilKAMF3bMX"
   },
   "source": [
    "Replace all values in the sub-array with a specific value.\n"
   ]
  },
  {
   "cell_type": "code",
   "execution_count": 16,
   "metadata": {
    "id": "gShfqRGm2REI"
   },
   "outputs": [
    {
     "name": "stdout",
     "output_type": "stream",
     "text": [
      "\n",
      "5x5 array after replacing sub-array values with specific value:\n",
      "[[-1 -1 87 43 60]\n",
      " [-1 -1  4 28 84]\n",
      " [24 95  4 17 52]\n",
      " [ 2 97 30 14 62]\n",
      " [35 20 99 18 93]]\n"
     ]
    }
   ],
   "source": [
    "# Define the specific value to replace with\n",
    "specific_value = -1\n",
    "\n",
    "# Replace all values in the sub-array (e.g., the 2x2 sub-array in the top-left corner)\n",
    "# We can define any sub-array range here. For example, replacing a 2x2 sub-array starting at the top-left corner:\n",
    "array_5x5[0:2, 0:2] = specific_value\n",
    "\n",
    "print(\"\\n5x5 array after replacing sub-array values with specific value:\")\n",
    "print(array_5x5)"
   ]
  },
  {
   "cell_type": "markdown",
   "metadata": {
    "id": "1kUY7u023gfF"
   },
   "source": [
    "Extract the subarray [[3, 4], [7, 8]] from the array [[1, 2], [3, 4], [5, 6], [7, 8]].\n"
   ]
  },
  {
   "cell_type": "code",
   "execution_count": 17,
   "metadata": {
    "id": "UmgqjBwC3_4V"
   },
   "outputs": [
    {
     "name": "stdout",
     "output_type": "stream",
     "text": [
      "Extracted subarray:\n",
      "[[3 4]\n",
      " [7 8]]\n"
     ]
    }
   ],
   "source": [
    "original_array = np.array([[1, 2], [3, 4], [5, 6], [7, 8]])\n",
    "\n",
    "# Extract the subarray [[3, 4], [7, 8]]\n",
    "subarray = original_array[[1, 3], :]\n",
    "\n",
    "# Print the extracted subarray\n",
    "print(\"Extracted subarray:\")\n",
    "print(subarray)"
   ]
  },
  {
   "cell_type": "markdown",
   "metadata": {
    "id": "vPrCHS_O3jK9"
   },
   "source": [
    "\n",
    "# **3. Broadcasting:**"
   ]
  },
  {
   "cell_type": "markdown",
   "metadata": {
    "id": "W3WUM5Cc3phc"
   },
   "source": [
    "Create a 2D array of shape (3, 3) with values from 0 to 2.\n"
   ]
  },
  {
   "cell_type": "code",
   "execution_count": 18,
   "metadata": {
    "id": "PxJrAlFW2RGw"
   },
   "outputs": [
    {
     "name": "stdout",
     "output_type": "stream",
     "text": [
      "2D array of shape (3, 3) with values from 0 to 2:\n",
      "[[0 1 2]\n",
      " [0 1 2]\n",
      " [0 1 2]]\n"
     ]
    }
   ],
   "source": [
    "one_d_array = np.arange(3)\n",
    "\n",
    "# Use broadcasting to create a 2D array of shape (3, 3)\n",
    "two_d_array = np.tile(one_d_array, (3, 1))\n",
    "\n",
    "# Print the 2D array\n",
    "print(\"2D array of shape (3, 3) with values from 0 to 2:\")\n",
    "print(two_d_array)"
   ]
  },
  {
   "cell_type": "markdown",
   "metadata": {
    "id": "J5XPwN3A3rXG"
   },
   "source": [
    "Add a 1D array of shape (3,) to each row of the 2D array using broadcasting.\n"
   ]
  },
  {
   "cell_type": "code",
   "execution_count": 21,
   "metadata": {
    "id": "k4FM2g_c2RJv"
   },
   "outputs": [
    {
     "name": "stdout",
     "output_type": "stream",
     "text": [
      "Resultant 2D array after broadcasting:\n",
      "[[1 3 5]\n",
      " [1 3 5]\n",
      " [1 3 5]]\n"
     ]
    }
   ],
   "source": [
    "# Create a 2D array of shape (3, 3) with values from 0 to 2\n",
    "two_d_array = np.tile(np.arange(3), (3, 1))\n",
    "\n",
    "# Create a 1D array of shape (3,)\n",
    "one_d_array = np.array([1, 2, 3])\n",
    "\n",
    "# Use broadcasting to add the 1D array to each row of the 2D array\n",
    "result_array = two_d_array + one_d_array\n",
    "\n",
    "# Print the result\n",
    "print(\"Resultant 2D array after broadcasting:\")\n",
    "print(result_array)"
   ]
  },
  {
   "cell_type": "markdown",
   "metadata": {
    "id": "9CbtQS3w4PA3"
   },
   "source": [
    "# **4. Concatenation and Splitting**"
   ]
  },
  {
   "cell_type": "markdown",
   "metadata": {
    "id": "yMg_umVy4ILG"
   },
   "source": [
    "\n",
    "1.   Create two 2D arrays of shape (3, 3) with random integers.\n",
    "2.   Concatenate them horizontally and vertically.\n",
    "3.   Split the concatenated arrays back into the original arrays.\n"
   ]
  },
  {
   "cell_type": "code",
   "execution_count": 22,
   "metadata": {
    "id": "wXiCa2Sn8XHP"
   },
   "outputs": [
    {
     "name": "stdout",
     "output_type": "stream",
     "text": [
      "Array 1:\n",
      "[[44 52 21]\n",
      " [53 27 52]\n",
      " [ 6 83 76]]\n",
      "\n",
      "Array 2:\n",
      "[[99  4 62]\n",
      " [58  3  4]\n",
      " [69 83 40]]\n"
     ]
    }
   ],
   "source": [
    "# Create two 2D arrays of shape (3, 3) with random integers\n",
    "array1 = np.random.randint(0, 100, size=(3, 3))\n",
    "array2 = np.random.randint(0, 100, size=(3, 3))\n",
    "\n",
    "# Print the results\n",
    "print(\"Array 1:\")\n",
    "print(array1)\n",
    "print(\"\\nArray 2:\")\n",
    "print(array2)"
   ]
  },
  {
   "cell_type": "code",
   "execution_count": 23,
   "metadata": {
    "id": "yAiYe6vj8XSW"
   },
   "outputs": [
    {
     "name": "stdout",
     "output_type": "stream",
     "text": [
      "\n",
      "Concatenated horizontally:\n",
      "[[44 52 21 99  4 62]\n",
      " [53 27 52 58  3  4]\n",
      " [ 6 83 76 69 83 40]]\n",
      "\n",
      "Concatenated vertically:\n",
      "[[44 52 21]\n",
      " [53 27 52]\n",
      " [ 6 83 76]\n",
      " [99  4 62]\n",
      " [58  3  4]\n",
      " [69 83 40]]\n"
     ]
    }
   ],
   "source": [
    "# Concatenate them horizontally\n",
    "concatenated_horizontal = np.concatenate((array1, array2), axis=1)\n",
    "\n",
    "# Concatenate them vertically\n",
    "concatenated_vertical = np.concatenate((array1, array2), axis=0)\n",
    "\n",
    "\n",
    "print(\"\\nConcatenated horizontally:\")\n",
    "print(concatenated_horizontal)\n",
    "\n",
    "print(\"\\nConcatenated vertically:\")\n",
    "print(concatenated_vertical)"
   ]
  },
  {
   "cell_type": "code",
   "execution_count": 25,
   "metadata": {
    "id": "lgMsjt-J8XZK"
   },
   "outputs": [
    {
     "name": "stdout",
     "output_type": "stream",
     "text": [
      "\n",
      "Split horizontally:\n",
      "[array([[44, 52, 21],\n",
      "       [53, 27, 52],\n",
      "       [ 6, 83, 76]]), array([[99,  4, 62],\n",
      "       [58,  3,  4],\n",
      "       [69, 83, 40]])]\n",
      "\n",
      "Split vertically:\n",
      "[array([[44, 52, 21],\n",
      "       [53, 27, 52],\n",
      "       [ 6, 83, 76]]), array([[99,  4, 62],\n",
      "       [58,  3,  4],\n",
      "       [69, 83, 40]])]\n"
     ]
    }
   ],
   "source": [
    "# Split the concatenated arrays back into the original arrays\n",
    "split_horizontal = np.hsplit(concatenated_horizontal, 2)\n",
    "split_vertical = np.vsplit(concatenated_vertical, 2)\n",
    "\n",
    "print(\"\\nSplit horizontally:\")\n",
    "print(split_horizontal)\n",
    "\n",
    "print(\"\\nSplit vertically:\")\n",
    "print(split_vertical)"
   ]
  },
  {
   "cell_type": "markdown",
   "metadata": {
    "id": "2CliNLH8YG3j"
   },
   "source": [
    "# **Bonus Question**\n",
    "\n",
    "Find mode of this array  = [1,2,1,2,3,4,5,6,8,9,1,2,2,22,21,1,1,1,1,2,5]\n",
    "\n",
    "Hint: Use count and also loop"
   ]
  },
  {
   "cell_type": "code",
   "execution_count": 27,
   "metadata": {
    "id": "JGe2Qe3SYaHq"
   },
   "outputs": [
    {
     "name": "stdout",
     "output_type": "stream",
     "text": [
      "Mode of the array: 1\n"
     ]
    }
   ],
   "source": [
    "arr = [1, 2, 1, 2, 3, 4, 5, 6, 8, 9, 1, 2, 2, 22, 21, 1, 1, 1, 1, 2, 5]\n",
    "\n",
    "# Initialize variables to keep track of mode and its count\n",
    "mode = None\n",
    "max_count = 0\n",
    "\n",
    "# Loop through each unique element in the array\n",
    "for num in set(arr):\n",
    "    # Count the occurrences of the current element in the array\n",
    "    count = arr.count(num)\n",
    "    # If the current count is greater than the maximum count so far, update mode and max_count\n",
    "    if count > max_count:\n",
    "        max_count = count\n",
    "        mode = num\n",
    "\n",
    "print(\"Mode of the array:\", mode)"
   ]
  },
  {
   "cell_type": "markdown",
   "metadata": {
    "id": "1t9n5GQdYbHN"
   },
   "source": [
    "# **Notes**\n",
    "\n",
    "\n",
    "1.   All the Questions carry Equal Points (2 points)\n",
    "\n",
    "2.   Bonus Question carry 5 points\n",
    "\n",
    "3.   Review lecture for any query\n",
    "\n",
    "Good Luck!\n",
    "\n"
   ]
  },
  {
   "cell_type": "code",
   "execution_count": null,
   "metadata": {
    "id": "yxT9-gJfYugV"
   },
   "outputs": [],
   "source": []
  }
 ],
 "metadata": {
  "colab": {
   "provenance": []
  },
  "kernelspec": {
   "display_name": "Python 3 (ipykernel)",
   "language": "python",
   "name": "python3"
  },
  "language_info": {
   "codemirror_mode": {
    "name": "ipython",
    "version": 3
   },
   "file_extension": ".py",
   "mimetype": "text/x-python",
   "name": "python",
   "nbconvert_exporter": "python",
   "pygments_lexer": "ipython3",
   "version": "3.11.5"
  }
 },
 "nbformat": 4,
 "nbformat_minor": 1
}
